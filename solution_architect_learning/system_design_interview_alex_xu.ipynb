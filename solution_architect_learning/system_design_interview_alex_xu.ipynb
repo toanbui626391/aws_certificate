{
 "cells": [
  {
   "cell_type": "markdown",
   "metadata": {},
   "source": [
    "### Chapter 1: \"Scale from Zero to Millions of Users\"\n",
    "- this chapter discuss about different architect requirement for number of user\n",
    "- architect based on the number of user:\n",
    "    - Single Server Architecture (0 - 10K users)\n",
    "    - Database & Application Server Separation (10K - 100K users)\n",
    "    - Load Balancing (100K - 1M users)\n",
    "    - Database Scaling (1M - 10M users)\n",
    "    - Advanced Scaling (10M+ Users)"
   ]
  },
  {
   "cell_type": "markdown",
   "metadata": {},
   "source": [
    "### Detail about different type of architect and number of user\n",
    "- the first question about the system design intervew, we must ask about number of user which the application need to handle"
   ]
  },
  {
   "cell_type": "markdown",
   "metadata": {},
   "source": [
    "### Single Server Architecture (0 - 10K users)\n",
    "- Architecture: A simple monolithic app with a database.\n",
    "- Deployment: Everything runs on a single machine (app, DB, cache).\n",
    "- Limitations:\n",
    "    - Single point of failure.\n",
    "    - Performance bottleneck (CPU, memory, disk).\n",
    "- 🛠 Solution: Vertical scaling (increase CPU/RAM), but has limits."
   ]
  },
  {
   "cell_type": "markdown",
   "metadata": {},
   "source": [
    "### Database & Application Server Separation (10K - 100K users)\n",
    "- Architecture: Split the application and database onto separate servers.\n",
    "- Improvements:\n",
    "    - Reduces load on a single machine.\n",
    "    - Allows independent scaling of app and database.\n",
    "- Limitations:\n",
    "    - Database can become a bottleneck.\n",
    "    - High traffic can overwhelm a single app server.\n",
    "- 🛠 Solution: Add load balancing to distribute requests."
   ]
  },
  {
   "cell_type": "markdown",
   "metadata": {},
   "source": [
    "### Load Balancing (100K - 1M users)\n",
    "- Architecture: Introduce a Load Balancer (LB) between users and multiple app servers.\n",
    "- Benefits:\n",
    "    - Distributes traffic across servers.\n",
    "    - Enables horizontal scaling of application servers.\n",
    "- Limitations:\n",
    "    - Database remains a single point of failure.\n",
    "- 🛠 Solution: Implement read replicas for database scaling.\n"
   ]
  },
  {
   "cell_type": "markdown",
   "metadata": {},
   "source": [
    "### Database Scaling (1M - 10M users)\n",
    "- Solution 1: Read Replicas (Primary-Replica Model)\n",
    "    - Separate write (primary) and read (replicas) operations.\n",
    "    - Improves read performance.\n",
    "- Solution 2: Database Sharding\n",
    "    - Split database into smaller parts based on user ID, region, etc.\n",
    "    - Reduces DB load, but increases complexity.\n",
    "- Solution 3: Caching Layer (Redis, Memcached)\n",
    "    - Reduces DB queries by storing frequently accessed data."
   ]
  },
  {
   "cell_type": "markdown",
   "metadata": {},
   "source": [
    "### Advanced Scaling (10M+ Users)\n",
    "- CDN (Content Delivery Network) – Caches static content closer to users.\n",
    "- Message Queues (Kafka, RabbitMQ) – Helps in handling background tasks asynchronously.\n",
    "- Microservices Architecture – Breaks monolith into smaller, scalable services."
   ]
  },
  {
   "cell_type": "markdown",
   "metadata": {},
   "source": [
    "### CHAPTER 2: BACK-OF-THE-ENVELOPE ESTIMATION\n",
    "- in chapte 2 back of the envelope estimation. We discuss about the important matrics to estimate the resource we need. We must collect matrics to help us estimate number of resource that we need\n",
    "- importance matrics are:\n",
    "    - storage\n",
    "    - bandwith\n",
    "    - computing resource\n"
   ]
  },
  {
   "cell_type": "markdown",
   "metadata": {},
   "source": [
    "### Why Is Estimation Important?\n",
    "- Helps in capacity planning for storage, CPU, and bandwidth.\n",
    "- Enables quick trade-off analysis during design discussions.\n",
    "- Shows problem-solving skills in interviews."
   ]
  },
  {
   "cell_type": "markdown",
   "metadata": {},
   "source": [
    "### **🔹 Estimating Storage Needs**  \n",
    "Formula:  Total Storage = Data Size per User × Number of Users\n",
    "**Example:**  \n",
    "- Each user uploads **5MB of images per day**.  \n",
    "- There are **10 million daily active users (DAUs)**.  \n",
    "- **1 month of storage** =  5MB × 10M × 30 = 1.5PB (Petabytes)\n",
    "\n",
    "✅ **Optimization Idea**: Use **compression, deduplication, or archiving** to reduce storage.  \n",
    "### **🔹 Estimating Bandwidth Needs**  \n",
    "Formula:  Total Bandwidth = Requests per Second × Data Transferred per Request\n",
    "**Example:**  \n",
    "- A website serves **1 million requests per second**.  \n",
    "- Each request sends **100KB of data**.  \n",
    "- Bandwidth needed:  1M × 100KB = 100GB/s\n",
    "- **Monthly Data Transfer**:  \n",
    "100GB/s × 86400s/day × 30 = 259PB/month\n",
    "✅ **Optimization Idea**: Use a **CDN (Content Delivery Network)** to cache static data and reduce bandwidth.  \n",
    "\n",
    "---\n",
    "\n",
    "### **🔹 Estimating Requests Per Second (RPS)**  \n",
    "Formula:  RPS = Total Daily Requests / Seconds in a Day\n",
    "**Example:**  \n",
    "- A social media app has **500M daily active users**.  \n",
    "- Each user makes **50 requests per day**.  \n",
    "- Total requests per day:  500M × 50 = 25B requests\n",
    "- RPS:  25B / 86400 = 289K RPS\n",
    "✅ **Optimization Idea**: Use **caching, load balancing, and database indexing** to handle high RPS.  \n",
    "\n",
    "---\n",
    "\n",
    "### **🔹 Estimating CPU Needs**  \n",
    "Formula:  Total CPU Cores = (Total Requests per Second × Processing Time per Request) / CPU Capacity per Core\n",
    "**Example:**  \n",
    "- Each request takes **200ms (0.2s) CPU time**.  \n",
    "- System handles **100K RPS**.  \n",
    "- CPU core can handle **1 request per second** (assuming 100% CPU usage).  \n",
    "- Required CPU cores:  (100K × 0.2) / 1 = 20K cores"
   ]
  },
  {
   "cell_type": "markdown",
   "metadata": {},
   "source": [
    "---\n",
    "\n",
    "### **🔹 Estimating Bandwidth Needs**  \n",
    "Formula:  Total Bandwidth = Requests per Second × Data Transferred per Request"
   ]
  }
 ],
 "metadata": {
  "language_info": {
   "name": "python"
  }
 },
 "nbformat": 4,
 "nbformat_minor": 2
}
