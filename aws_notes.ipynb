{
 "cells": [
  {
   "cell_type": "markdown",
   "metadata": {},
   "source": [
    "### What is AWS Organization\n",
    "AWS Organizations is a service provided by Amazon Web Services (AWS) that allows you to centrally manage and govern multiple AWS accounts. It is designed for enterprises and large-scale users to create hierarchical structures for their accounts, enabling centralized control over policies, consolidated billing, and resource sharing across accounts. By using AWS Organizations, you can automate the account creation process, apply governance controls, and group accounts for simplified management.\n",
    "### Key feature of AWS Organization\n",
    "1. Account Management:\n",
    "\n",
    "You can create, manage, and organize multiple AWS accounts under a single organization. Each account can represent different departments, projects, or environments (e.g., production, development).\n",
    "\n",
    "2. Organizational Units (OUs):\n",
    "\n",
    "You can group accounts into Organizational Units (OUs) to apply policies at different levels. For example, you might group accounts by function (e.g., dev, test, production) or by business unit.\n",
    "\n",
    "3. Service Control Policies (SCPs):\n",
    "\n",
    "SCPs are a feature of AWS Organizations that allow you to enforce permission guardrails across member accounts. SCPs are applied to OUs or individual accounts and dictate what services or actions are allowed or restricted.\n",
    "These policies can prevent actions such as creating specific types of resources (e.g., restricting the use of EC2 in certain regions).\n",
    "\n",
    "4. Consolidated Billing:\n",
    "\n",
    "AWS Organizations provides a single billing method for all accounts within the organization. This allows for easier cost tracking, sharing of discounts (like Reserved Instances), and simplified invoice management.\n",
    "You can view detailed cost and usage data for each account under the organization, helping you optimize your AWS spend.\n",
    "\n",
    "5. Resource Sharing:\n",
    "\n",
    "AWS Resource Access Manager (RAM) integrates with AWS Organizations to allow resource sharing across accounts (such as VPCs, Route 53 resolver rules, or licenses).\n",
    "\n",
    "6. Delegated Administration:\n",
    "\n",
    "You can delegate specific AWS services to certain member accounts, allowing them to manage services like AWS Service Catalog, CloudFormation StackSets, or AWS Backup for the entire organization.\n",
    "\n",
    "7. Control Tower Integration:\n",
    "AWS Organizations is integrated with AWS Control Tower, a service that simplifies the creation of a secure, multi-account AWS environment based on best practices."
   ]
  },
  {
   "cell_type": "markdown",
   "metadata": {},
   "source": [
    "### What is AWS Control Tower\n",
    "AWS Control Tower is a service designed to simplify the setup and governance of a secure, multi-account AWS environment based on AWS best practices. It provides a managed service that automates the creation and ongoing management of an AWS landing zone—a secure, scalable, and governed environment that helps organizations follow established best practices for multi-account setups.\n",
    "### Key features of AWS Control Tower\n",
    "1. Landing Zone:\n",
    "\n",
    "AWS Control Tower sets up an initial landing zone, which is a baseline multi-account environment based on AWS’s best practices. This includes pre-configured organizational units (OUs), accounts, guardrails, and centralized logging.\n",
    "\n",
    "2. Guardrails:\n",
    "\n",
    "Guardrails are pre-defined rules for security, operations, and compliance. These rules are enforced through Service Control Policies (SCPs) and AWS Config rules. There are two types of guardrails:\n",
    "Preventive Guardrails: These restrict certain actions to ensure security and compliance (e.g., preventing public access to S3 buckets).\n",
    "Detective Guardrails: These monitor the environment and detect non-compliance (e.g., detecting unencrypted resources).\n",
    "\n",
    "3. Account Factory:\n",
    "\n",
    "AWS Control Tower includes an Account Factory, which provides a standardized way to create and configure new AWS accounts following best practices. It helps you create fully governed accounts that are compliant with your organization’s policies right from the start.\n",
    "\n",
    "4. Pre-configured Organizational Units (OUs):\n",
    "\n",
    "When setting up the landing zone, AWS Control Tower automatically creates key Organizational Units (OUs), such as Security and Sandbox, allowing you to group accounts by function or purpose and apply policies to them.\n",
    "\n",
    "5. Centralized Logging and Monitoring:\n",
    "\n",
    "It provides centralized logging and monitoring of all AWS accounts using services like AWS CloudTrail, AWS Config, and Amazon CloudWatch. This makes it easier to detect and audit activities across all accounts.\n",
    "\n",
    "6. Compliance Dashboard:\n",
    "\n",
    "AWS Control Tower includes a dashboard where administrators can monitor the compliance status of all AWS accounts under governance. This helps identify accounts that may be violating guardrails or best practices.\n",
    "\n",
    "7. Automated Setup:\n",
    "\n",
    "Control Tower automates the process of setting up AWS Organizations, OUs, accounts, guardrails, and networking configurations, which can be time-consuming if done manually."
   ]
  }
 ],
 "metadata": {
  "language_info": {
   "name": "python"
  }
 },
 "nbformat": 4,
 "nbformat_minor": 2
}
