{
 "cells": [
  {
   "cell_type": "markdown",
   "metadata": {},
   "source": [
    "### Question #1\n",
    "Snowflake provides a mechanism for its customers to override its natural clustering algorithms. This method is:\n",
    "\n",
    "A. Micro-partitions\n",
    "\n",
    "B. Clustering keys\n",
    "\n",
    "C. Key partitions\n",
    "\n",
    "D. Clustered partitions\n",
    "\n",
    "Solution:\n",
    "\n",
    "Correct answer is B. We can use clustering keys to overwrite clustering algorithms"
   ]
  },
  {
   "cell_type": "markdown",
   "metadata": {},
   "source": [
    "Question #2 \n",
    "Which of the following are valid Snowflake Virtual Warehouse Scaling Policies? (Choose two.)\n",
    "\n",
    "A. Custom\n",
    "\n",
    "B. Economy\n",
    "\n",
    "C. Optimized\n",
    "\n",
    "D. Standard\n",
    "\n",
    "Solution:\n",
    "Correct answer is B and D. Scalling Policy for snowflake scaling is Economy and Standard\n",
    "\n",
    "Snowflake offers two primary scaling policies:\n",
    "\n",
    "- Standard: This policy prioritizes performance by rapidly scaling up and down compute resources to match workload fluctuations. It's ideal for workloads that require low latency and high throughput, such as real-time analytics and interactive querying.\n",
    "\n",
    "- Economy: This policy prioritizes cost savings by scaling resources more conservatively. It's suitable for workloads that can tolerate some delay in processing, such as batch processing and less time-sensitive tasks."
   ]
  },
  {
   "cell_type": "markdown",
   "metadata": {},
   "source": [
    "Question #3\n",
    "\n",
    "True or False: A single database can exist in more than one Snowflake account.\n",
    "\n",
    "A. True\n",
    "\n",
    "B. False\n",
    "\n",
    "Solution:\n",
    "\n",
    "Correct answer is B. One snowflake account can have multiple database but one database only belong to a single account."
   ]
  },
  {
   "cell_type": "markdown",
   "metadata": {},
   "source": [
    "Question #4\n",
    "\n",
    "Which of the following roles is recommended to be used to create and manage users and roles?\n",
    "\n",
    "A. SYSADMIN\n",
    "\n",
    "B. SECURITYADMIN Most Voted\n",
    "\n",
    "C. PUBLIC\n",
    "\n",
    "D. ACCOUNTADMIN\n",
    "\n",
    "Solution:\n",
    "- correct answer is B. For create and manage user and role we should you securityadmin role\n",
    "- SYSTEM ROLES:\n",
    "    -  ORGADMIN manages operations at the organizational level\n",
    "    - ACCOUNTADMIN performs administrative functions\n",
    "    - SECURITYADMIN creates and manages users and roles, and manages grants\n",
    "    - USERADMIN creates users and roles\n",
    "    - SYSADMIN creates and manages databases, schemas, and warehouses\n",
    "    - PUBLIC is available to all users, but (by default) cannot do anything but log in"
   ]
  },
  {
   "cell_type": "markdown",
   "metadata": {},
   "source": [
    "Question #5\n",
    "\n",
    "True or False: Bulk unloading of data from Snowflake supports the use of a SELECT statement.\n",
    "\n",
    "A. True Most Voted\n",
    "\n",
    "B. False\n",
    "\n",
    "Solution:\n",
    "\n",
    "- correct answer is A.\n",
    "- we can unload data from snowflake using copy to query.\n",
    "- copy to query support query with select statement\n",
    "- https://docs.snowflake.com/en/user-guide/data-unload-overview#bulk-unloading-using-queries\n",
    "- "
   ]
  },
  {
   "cell_type": "markdown",
   "metadata": {},
   "source": [
    "Question #6\n",
    "\n",
    "Select the different types of Internal Stages: (Choose three.)\n",
    "\n",
    "A. Named Stage\n",
    "\n",
    "B. User Stage\n",
    "\n",
    "C. Table Stage\n",
    "\n",
    "D. Schema Stage\n",
    "\n",
    "Solution:\n",
    "- correct answer is A, B, C. type of snowflake internal stages are user, table, named.\n",
    "- internal stage is the concept of where data files is stored in a local file system loading and unloading."
   ]
  },
  {
   "cell_type": "markdown",
   "metadata": {},
   "source": [
    "Question #7\n",
    "\n",
    "True or False: A customer using SnowSQL / native connectors will be unable to also use the Snowflake Web Interface (UI) unless access to the UI is explicitly granted by support.\n",
    "\n",
    "A. True\n",
    "\n",
    "B. False\n",
    "\n",
    "Solution:\n",
    "- correct answer is B, False. We can always use UI for the query"
   ]
  },
  {
   "cell_type": "markdown",
   "metadata": {},
   "source": [
    "Question #8\n",
    "\n",
    "Account-level storage usage can be monitored via:\n",
    "\n",
    "A. The Snowflake Web Interface (UI) in the Databases section\n",
    "\n",
    "B. The Snowflake Web Interface (UI) in the Account -> Billing & Usage section\n",
    "\n",
    "C. The Information Schema -> ACCOUNT_USAGE_HISTORY View\n",
    "\n",
    "D. The Account Usage Schema -> ACCOUNT_USAGE_METRICS View\n",
    "\n",
    "Solution:\n",
    "- correct answer is B. We can monitor account level usage using UI -> Billing & Usage section"
   ]
  },
  {
   "cell_type": "markdown",
   "metadata": {},
   "source": [
    "Question #9\n",
    "\n",
    "Credit Consumption by the Compute Layer (Virtual Warehouses) is based on: (Choose two.)\n",
    "\n",
    "A. Number of users\n",
    "\n",
    "B. Warehouse size\n",
    "\n",
    "C. Amount of data processed\n",
    "\n",
    "D. # of clusters for the Warehouse\n",
    "\n",
    "Solution:\n",
    "- correct answer is B, D. Credit consumption is base on warehouse size and the number of cluster for the warehouse"
   ]
  },
  {
   "cell_type": "markdown",
   "metadata": {},
   "source": [
    "Question #10\n",
    "\n",
    "Which statement best describes `clustering`?\n",
    "\n",
    "A. Clustering represents the way data is grouped together and stored within Snowflake's micro-partitions\n",
    "\n",
    "B. The database administrator must define the clustering methodology for each Snowflake table\n",
    "\n",
    "C. The clustering key must be included on the COPY command when loading data into Snowflake\n",
    "\n",
    "D. Clustering can be disabled within a Snowflake account\n",
    "\n",
    "Solution:\n",
    "- correct answer is A."
   ]
  },
  {
   "cell_type": "markdown",
   "metadata": {},
   "source": [
    "Question #11\n",
    "\n",
    "True or False: The COPY command must specify a File Format in order to execute.\n",
    "\n",
    "A. True\n",
    "\n",
    "B. False\n",
    "\n",
    "Solution:\n",
    "- correct answer is False. file type is not a must in copy statement"
   ]
  },
  {
   "cell_type": "markdown",
   "metadata": {},
   "source": [
    "Question #12Topic 1\n",
    "\n",
    "\n",
    "Which of the following commands sets the Virtual Warehouse for a session?\n",
    "\n",
    "A. COPY WAREHOUSE FROM <<config file>>;\n",
    "\n",
    "B. SET WAREHOUSE = <<warehouse name>>;\n",
    "\n",
    "C. USE WAREHOUSE <<warehouse name>>; Most Voted\n",
    "\n",
    "D. USE VIRTUAL_WAREHOUSE <<warehouse name>>;\n",
    "\n",
    "Solution:\n",
    "- correct answer is C. USE WAREHOUSE is the syntax to specified which warehouse is used in a session"
   ]
  },
  {
   "cell_type": "markdown",
   "metadata": {},
   "source": [
    "Question #13\n",
    "\n",
    "Which of the following objects can be cloned? (Choose four.)\n",
    "\n",
    "A. Tables\n",
    "\n",
    "B. Named File Formats\n",
    "\n",
    "C. Schemas\n",
    "\n",
    "D. Shares\n",
    "\n",
    "E. Databases\n",
    "\n",
    "F. Users\n",
    "\n",
    "Solution:\n",
    "- correct answer is A, B, C, E.\n",
    "- a named file format is a database object that encapsulates information about a data file. This information includes the file's type (CSV, JSON, etc.), formatting options, and compression method. Named file formats are used to simplify the process of loading and unloading data from Snowflake tables"
   ]
  },
  {
   "cell_type": "markdown",
   "metadata": {},
   "source": [
    "Question #14\n",
    "\n",
    "Which object allows you to limit the number of credits consumed within a Snowflake account?\n",
    "\n",
    "A. Account Usage Tracking\n",
    "\n",
    "B. Resource Monitor\n",
    "\n",
    "C. Warehouse Limit Parameter\n",
    "\n",
    "D. Credit Consumption Tracker\n",
    "\n",
    "Solutioin:\n",
    "- correct answer is Resource Monitor\n",
    "\n",
    "CREATE OR REPLACE RESOURCE MONITOR monthly_limit\n",
    "WITH CREDIT_QUOTA = 10000; -- 10,000 credits per month\n",
    "\n",
    "ALTER RESOURCE MONITOR monthly_limit\n",
    "TRIGGERS ON 80 PERCENT DO NOTIFY,\n",
    "          ON 90 PERCENT DO SUSPEND,\n",
    "          ON 100 PERCENT DO SUSPEND_IMMEDIATE;\n",
    "\n",
    "          "
   ]
  },
  {
   "cell_type": "markdown",
   "metadata": {},
   "source": [
    "Question #15\n",
    "\n",
    "Snowflake is designed for which type of workloads? (Choose two.)\n",
    "\n",
    "A. OLAP (Analytics) workloads\n",
    "\n",
    "B. OLTP (Transactional) workloads\n",
    "\n",
    "C. Concurrent workloads\n",
    "\n",
    "D. On-premise workloads\n",
    "\n",
    "Solution:\n",
    "- correct answer is A, C."
   ]
  },
  {
   "cell_type": "markdown",
   "metadata": {},
   "source": [
    "Question #16\n",
    "\n",
    "What are the three layers that make up Snowflake's architecture? (Choose three.)\n",
    "\n",
    "A. Compute\n",
    "\n",
    "B. Tri-Secret Secure\n",
    "\n",
    "C. Storage\n",
    "\n",
    "D. Cloud Services\n",
    "\n",
    "Solution:\n",
    "- correct answer is A, C, D. The three layer of snowflake are storage, compute and cloud service."
   ]
  },
  {
   "cell_type": "markdown",
   "metadata": {},
   "source": [
    "Question #17\n",
    "\n",
    "Why would a customer size a Virtual Warehouse from an X-Small to a Medium?\n",
    "\n",
    "A. To accommodate more queries\n",
    "\n",
    "B. To accommodate more users\n",
    "\n",
    "C. To accommodate fluctuations in workload\n",
    "\n",
    "D. To accommodate a more complex workload Most Voted\n",
    "\n",
    "Solution:\n",
    "- correct answer is D. increase the size of virtual datawarehouse is not due with concurrency issues (more query)"
   ]
  },
  {
   "cell_type": "markdown",
   "metadata": {},
   "source": [
    "Question #18\n",
    "\n",
    "True or False: Reader Accounts incur no additional Compute costs to the Data Provider since they are simply reading the shared data without making changes.\n",
    "\n",
    "A. True\n",
    "\n",
    "B. False Most Voted\n",
    "\n",
    "Solution:\n",
    "- correct ansewr is B."
   ]
  },
  {
   "cell_type": "markdown",
   "metadata": {},
   "source": [
    "Question #19\n",
    "\n",
    "Which of the following connectors allow Multi-Factor Authentication (MFA) authorization when connecting? (Choose all that apply.)\n",
    "\n",
    "A. JDBC\n",
    "\n",
    "B. SnowSQL\n",
    "\n",
    "C. Snowflake Web Interface (UI)\n",
    "\n",
    "D. ODBC\n",
    "\n",
    "E. Python\n",
    "\n",
    "Solution:\n",
    "- correct answer is all"
   ]
  },
  {
   "cell_type": "markdown",
   "metadata": {},
   "source": [
    "Question #20\n",
    "\n",
    "True or False: Snowflake charges a premium for storing semi-structured data.\n",
    "\n",
    "A. True\n",
    "\n",
    "B. False Most Voted\n",
    "\n",
    "Solution:\n",
    "- correct answer is B"
   ]
  },
  {
   "cell_type": "markdown",
   "metadata": {},
   "source": [
    "Question #21\n",
    "\n",
    "Which of the following statements describes a benefit of Snowflake's separation of compute and storage? (Choose all that apply.)\n",
    "\n",
    "A. Growth of storage and compute are tightly coupled together\n",
    "\n",
    "B. Storage expands without the requirement to add more compute\n",
    "\n",
    "C. Compute can be scaled up or down without the requirement to add more storage\n",
    "\n",
    "D. Multiple compute clusters can access stored data without contention\n",
    "\n",
    "Solution:\n",
    "- correct answer is B, C, D\n",
    "- what are the benefit of seperate of compute and storage\n",
    "    - Storage expands without the requirement to add more compute\n",
    "    - Compute can be scaled up or down without the requirement to add more storage\n",
    "    - Multiple compute clusters can access stored data without contention"
   ]
  },
  {
   "cell_type": "markdown",
   "metadata": {},
   "source": [
    "Question #22\n",
    "\n",
    "True or False: It is possible to unload structured data to semi-structured formats such as JSON and Parquet.\n",
    "\n",
    "A. True\n",
    "\n",
    "B. False\n",
    "\n",
    "Solution:\n",
    "- correct answer is A. It is possible to unload structured data into semi-structured formats such as JSON and Parquet"
   ]
  },
  {
   "cell_type": "markdown",
   "metadata": {},
   "source": [
    "Question #23\n",
    "\n",
    "In which layer of its architecture does Snowflake store its metadata statistics?\n",
    "\n",
    "A. Storage Layer\n",
    "\n",
    "B. Compute Layer\n",
    "\n",
    "C. Database Layer\n",
    "\n",
    "D. Cloud Services Layer\n",
    "\n",
    "Solution:\n",
    "- correct answer is D. Metadata Manager is part of Cloud Service Layer"
   ]
  },
  {
   "cell_type": "markdown",
   "metadata": {},
   "source": [
    "Question #24\n",
    "\n",
    "True or False: Data in fail-safe can be deleted by a user or the Snowflake team before it expires.\n",
    "\n",
    "A. True\n",
    "\n",
    "B. False\n",
    "\n",
    "Solution:\n",
    "- correct answer is B. User do not have access to fail-safe data"
   ]
  },
  {
   "cell_type": "markdown",
   "metadata": {},
   "source": [
    "Question #25\n",
    "\n",
    "True or False: Snowflake's data warehouse was built from the ground up for the cloud in lieu of using an existing database or a platform, like Hadoop, as a base.\n",
    "\n",
    "A. True Most Voted\n",
    "\n",
    "B. False\n",
    "\n",
    "Solution:\n",
    "- correct anser is A.\n",
    "- 'in lieu of' == 'instead of'. Yes, Snowflake was built from the ground up, without using something else as a base. So the statement is true and the answer is A."
   ]
  },
  {
   "cell_type": "markdown",
   "metadata": {},
   "source": [
    "Question #26\n",
    "\n",
    "Which of the following statements are true of Virtual Warehouses? (Choose all that apply.)\n",
    "\n",
    "A. Customers can change the size of the Warehouse after creation\n",
    "\n",
    "B. A Warehouse can be resized while running\n",
    "\n",
    "C. A Warehouse can be configured to suspend after a period of inactivity\n",
    "\n",
    "D. A Warehouse can be configured to auto-resume when new queries are submitted\n",
    "\n",
    "Solution:\n",
    "- correct answer is all feature above\n",
    "    - change size after creation\n",
    "    - resized while running\n",
    "    - config to suspend after a period of inactivity\n",
    "    - config to auto-resume when new query is submitted"
   ]
  },
  {
   "cell_type": "markdown",
   "metadata": {},
   "source": [
    "Question #27\n",
    "\n",
    "The PUT command: (Choose two.)\n",
    "\n",
    "A. Automatically creates a File Format object\n",
    "\n",
    "B. Automatically uses the last Stage created\n",
    "\n",
    "C. Automatically compresses files using Gzip\n",
    "\n",
    "D. Automatically encrypts files\n",
    "\n",
    "Solution:\n",
    "- correct answer is C, D.\n",
    "- PUT command use to stage file before load into snowflake\n",
    "    - PUT will have auto compress and encyption\n"
   ]
  },
  {
   "cell_type": "markdown",
   "metadata": {},
   "source": [
    "Question #28\n",
    "\n",
    "Which type of table corresponds to a single Snowflake session?\n",
    "\n",
    "A. Temporary\n",
    "\n",
    "B. Transient\n",
    "\n",
    "C. Provisional\n",
    "\n",
    "D. Permanen\n",
    "\n",
    "Solution:\n",
    "- correct answer is A."
   ]
  },
  {
   "cell_type": "markdown",
   "metadata": {},
   "source": [
    "Question #29\n",
    "\n",
    "Which interfaces can be used to create and/or manage Virtual Warehouses?\n",
    "\n",
    "A. The Snowflake Web Interface (UI)\n",
    "\n",
    "B. SQL commands\n",
    "\n",
    "C. Data integration tools\n",
    "\n",
    "D. All of the above\n",
    "\n",
    "Solution:\n",
    "- correct answer is D"
   ]
  },
  {
   "cell_type": "markdown",
   "metadata": {},
   "source": [
    "Question #30\n",
    "\n",
    "When a Pipe is recreated using the CREATE OR REPLACE PIPE command:\n",
    "\n",
    "A. The Pipe load history is reset to empty\n",
    "\n",
    "B. The REFRESH parameter is set to TRUE\n",
    "\n",
    "C. Previously loaded files will be ignored\n",
    "\n",
    "D. All of the above\n",
    "\n",
    "Solution:\n",
    "- correct answewr is A.\n",
    "- when execute CREATE OR REPLACE PIPE command, pipe history is reset to empty"
   ]
  },
  {
   "cell_type": "markdown",
   "metadata": {},
   "source": [
    "Question #31\n",
    "\n",
    "What is the minimum Snowflake edition that customers planning on storing protected information in Snowflake should consider for regulatory compliance?\n",
    "\n",
    "A. Standard\n",
    "\n",
    "B. Premier\n",
    "\n",
    "C. Enterprise\n",
    "\n",
    "D. Business Critical Edition\n",
    "\n",
    "Solution:\n",
    "- correct answer is D.\n",
    "- PII and HIPAA compliance are only supported for Business Critical Edition or higher."
   ]
  },
  {
   "cell_type": "markdown",
   "metadata": {},
   "source": [
    "Question #32\n",
    "\n",
    "Select the three types of tables that exist within Snowflake. (Choose three.)\n",
    "\n",
    "A. Temporary\n",
    "\n",
    "B. Transient\n",
    "\n",
    "C. Provisional\n",
    "\n",
    "D. Permanent\n",
    "\n",
    "Solution:\n",
    "- correct answer is A, B, D.\n",
    "- Transient Tables:\n",
    "\n",
    "    - Hybrid: A middle ground between permanent and temporary tables.   \n",
    "    - Persistence: Persist beyond a single session but have limited data protection compared to permanent tables.\n",
    "    - Data Protection: Limited Time Travel (typically 1 day) and no Fail-safe."
   ]
  },
  {
   "cell_type": "markdown",
   "metadata": {},
   "source": [
    "Question #33\n",
    "\n",
    "True or False: Snowpipe via REST API can only reference External Stages as source.\n",
    "\n",
    "A. True\n",
    "\n",
    "B. False\n",
    "\n",
    "Solution:\n",
    "- correct answer is A. Snowpipe can reference both external and interal stage as source"
   ]
  },
  {
   "cell_type": "markdown",
   "metadata": {},
   "source": [
    "Question #34\n",
    "\n",
    "True or False: A third-party tool that supports standard JDBC or ODBC but has no Snowflake-specific driver will be unable to connect to Snowflake.\n",
    "\n",
    "A. True\n",
    "\n",
    "B. False\n",
    "\n",
    "Solution:\n",
    "- correct answer is B. Snowflake support JDBC or ODBC."
   ]
  },
  {
   "cell_type": "markdown",
   "metadata": {},
   "source": [
    "Question #35\n",
    "\n",
    "True or False: It is possible to load data into Snowflake without creating a named File Format object.\n",
    "\n",
    "A. True\n",
    "\n",
    "B. False\n",
    "\n",
    "Solution:\n",
    "- correct ansewr is A."
   ]
  },
  {
   "cell_type": "markdown",
   "metadata": {},
   "source": [
    "Question #36\n",
    "\n",
    "True or False: A table in Snowflake can only be queried using the Virtual Warehouse that was used to load the data.\n",
    "\n",
    "A. True\n",
    "\n",
    "B. False\n",
    "\n",
    "Solution:\n",
    "- correct answer is B."
   ]
  },
  {
   "cell_type": "markdown",
   "metadata": {},
   "source": [
    "Question #37\n",
    "\n",
    "Which of the following statements are true of Snowflake data loading? (Choose three.)\n",
    "\n",
    "A. VARIANT ג€nullג€ values are not the same as SQL NULL values\n",
    "\n",
    "B. It is recommended to do frequent, single row DMLs\n",
    "\n",
    "C. It is recommended to validate the data before loading into the Snowflake target table\n",
    "\n",
    "D. It is recommended to use staging tables to manage MERGE statements\n",
    "\n",
    "Solution:\n",
    "- correct answer is A, C, D.\n",
    "- the different between sql null vs json null. "
   ]
  },
  {
   "cell_type": "markdown",
   "metadata": {},
   "source": [
    "Question #38\n",
    "\n",
    "Which statements are true of micro-partitions? (Choose two.)\n",
    "\n",
    "A. They are approximately 16MB in size\n",
    "\n",
    "B. They are stored compressed only if COMPRESS=TRUE on Table\n",
    "\n",
    "C. They are immutable\n",
    "\n",
    "D. They are only encrypted in the Enterprise edition and above\n",
    "\n",
    "Solution:\n",
    "- correct answer is A, C\n",
    "- micro-partition:\n",
    "    - compress files are 16M in size\n",
    "    - is immutable"
   ]
  },
  {
   "cell_type": "markdown",
   "metadata": {},
   "source": [
    "Question #39\n",
    "\n",
    "True or False: Query ID's are unique across all Snowflake deployments and can be used in communication with Snowflake Support to help troubleshoot issues.\n",
    "\n",
    "A. True Most Voted\n",
    "\n",
    "B. False\n",
    "\n",
    "Solution:\n",
    "- correct answer is A.\n",
    "- Query ID's are unique across all Snowflake deployments and can be used in communication with Snowflake Support to help troubleshoot issues."
   ]
  },
  {
   "cell_type": "markdown",
   "metadata": {},
   "source": [
    "Question #40\n",
    "\n",
    "A deterministic query is run at 8am, takes 5 minutes, and the results are cached. Which of the following statements are true? (Choose two.)\n",
    "\n",
    "A. The exact query will ALWAYS return the precomputed result set for the RESULT_CACHE_ACTIVE = time period\n",
    "\n",
    "B. The same exact query will return the precomputed results if the underlying data hasn't changed and the results were last accessed within previous 24 hour period\n",
    "\n",
    "C. The same exact query will return the precomputed results even if the underlying data has changed as long as the results were last accessed within the previous 24 hour period\n",
    "\n",
    "D. The ג€24 hourג€ timer on the precomputed results gets renewed every time the exact query is executed\n",
    "\n",
    "Solution:\n",
    "- correct answer is B, D\n",
    "- cache will have effect in 24 hours. If exactly query is submit then the timer if reset"
   ]
  },
  {
   "cell_type": "markdown",
   "metadata": {},
   "source": [
    "Question #41\n",
    "\n",
    "Increasing the maximum number of clusters in a Multi-Cluster Warehouse is an example of:\n",
    "\n",
    "A. Scaling rhythmically\n",
    "\n",
    "B. Scaling max\n",
    "\n",
    "C. Scaling out\n",
    "\n",
    "D. Scaling up\n",
    "\n",
    "Solution:\n",
    "- correct answer is C.\n",
    "- the different between scale up vs scale out. scale up is resized while scale out is increase number of cluster"
   ]
  },
  {
   "cell_type": "markdown",
   "metadata": {},
   "source": [
    "Question #42\n",
    "\n",
    "Which statement best describes Snowflake tables?\n",
    "\n",
    "A. Snowflake tables are logical representations of underlying physical data Most Voted\n",
    "\n",
    "B. Snowflake tables are the physical instantiation of data loaded into Snowflake\n",
    "\n",
    "C. Snowflake tables require that clustering keys be defined to perform optimally\n",
    "\n",
    "D. Snowflake tables are owned by a user\n",
    "\n",
    "Solution:\n",
    "- correct answer is A.\n",
    "- Snowflake tables are logical representations of underlying physical data"
   ]
  },
  {
   "cell_type": "markdown",
   "metadata": {},
   "source": [
    "Question #43\n",
    "\n",
    "Which item in the Data Warehouse migration process does not apply in Snowflake?\n",
    "\n",
    "A. Migrate Users\n",
    "\n",
    "B. Migrate Schemas\n",
    "\n",
    "C. Migrate Indexes Most Voted\n",
    "\n",
    "D. Build the Data Pipeline\n",
    "\n",
    "Solution:\n",
    "- correct answer is C.\n",
    "- Snowflake does not have concept of index"
   ]
  },
  {
   "cell_type": "markdown",
   "metadata": {},
   "source": [
    "Question #44\n",
    "\n",
    "Snowflake provides two mechanisms to reduce data storage costs for short-lived tables. These mechanisms are: (Choose two.)\n",
    "\n",
    "A. Temporary Tables\n",
    "\n",
    "B. Transient Tables\n",
    "\n",
    "C. Provisional Tables\n",
    "\n",
    "D. Permanent Tables\n",
    "\n",
    "Solution:\n",
    "- correct answer is A, B"
   ]
  },
  {
   "cell_type": "markdown",
   "metadata": {},
   "source": [
    "Question #45\n",
    "\n",
    "What is the maximum compressed row size in Snowflake?\n",
    "\n",
    "A. 8KB\n",
    "\n",
    "B. 16MB Most Voted\n",
    "\n",
    "C. 50MB\n",
    "\n",
    "D. 4000GB\n",
    "\n",
    "Solution:\n",
    "- correct answer is B"
   ]
  },
  {
   "cell_type": "markdown",
   "metadata": {},
   "source": [
    "Question #46\n",
    "\n",
    "Which of the following are main sections of the top navigation of the Snowflake Web Interface (UI)? (Choose three.)\n",
    "\n",
    "A. Databases\n",
    "\n",
    "B. Tables\n",
    "\n",
    "C. Warehouses\n",
    "\n",
    "D. Worksheets\n",
    "\n",
    "Solution:\n",
    "- correct is A, C, D"
   ]
  },
  {
   "cell_type": "markdown",
   "metadata": {},
   "source": [
    "Question #47\n",
    "\n",
    "What is the recommended Snowflake data type to store semi-structured data like JSON?\n",
    "\n",
    "A. VARCHAR\n",
    "\n",
    "B. RAW\n",
    "\n",
    "C. LOB\n",
    "\n",
    "D. VARIANT\n",
    "\n",
    "Solution:\n",
    "- correct answer is D."
   ]
  },
  {
   "cell_type": "markdown",
   "metadata": {},
   "source": [
    "Question #48\n",
    "\n",
    "Which of the following statements are true of Snowflake releases: (Choose two.)\n",
    "\n",
    "A. They happen approximately weekly\n",
    "\n",
    "B. They roll up and release approximately monthly, but customers can request early release application\n",
    "\n",
    "C. During a release, new customer requests/queries/connections transparently move over to the newer version\n",
    "\n",
    "D. A customer is assigned a 30 minute window (that can be moved anytime within a week) during which the system will be unavailable and customer is upgraded\n",
    "\n",
    "Solution:\n",
    "- correct answer is A, D\n",
    "- snowflake release is follow continue deployment which is weekly and should be transparently"
   ]
  },
  {
   "cell_type": "markdown",
   "metadata": {},
   "source": [
    "Question #49\n",
    "\n",
    "Which of the following are common use cases for zero-copy cloning? (Choose three.)\n",
    "\n",
    "A. Quick provisioning of Dev and Test/QA environments Most Voted\n",
    "\n",
    "B. Data backups Most Voted\n",
    "\n",
    "C. Point in time snapshots Most Voted\n",
    "\n",
    "D. Performance optimization\n",
    "\n",
    "Solution:\n",
    "- correct answer is A, B, C\n",
    "- Snowflake Zero-Copy Clone is a powerful feature that allows you to create copies of database objects (tables, schemas, databases) without actually duplicating the underlying data. Instead of making a physical copy of data snowflake will only share underly data and manage metdata.\n",
    "- some common use case for zero-copy:\n",
    "    - Quick provisioning of Dev and Test/QA environments\n",
    "    - Data backups\n",
    "    - Point in time snapshots"
   ]
  },
  {
   "cell_type": "markdown",
   "metadata": {},
   "source": [
    "Question #50\n",
    "\n",
    "If a Small Warehouse is made up of 2 servers/cluster, how many servers/cluster make up a Medium Warehouse?\n",
    "\n",
    "A. 4\n",
    "\n",
    "B. 16\n",
    "\n",
    "C. 32\n",
    "\n",
    "D. 128\n",
    "\n",
    "Solution:\n",
    "- correct answer is A. the size of cluster is time 2 for incremental higher"
   ]
  },
  {
   "cell_type": "markdown",
   "metadata": {},
   "source": []
  },
  {
   "cell_type": "markdown",
   "metadata": {},
   "source": []
  },
  {
   "cell_type": "markdown",
   "metadata": {},
   "source": []
  },
  {
   "cell_type": "markdown",
   "metadata": {},
   "source": []
  }
 ],
 "metadata": {
  "language_info": {
   "name": "python"
  }
 },
 "nbformat": 4,
 "nbformat_minor": 2
}
