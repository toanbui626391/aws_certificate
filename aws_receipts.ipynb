{
 "cells": [
  {
   "cell_type": "markdown",
   "metadata": {},
   "source": [
    "### 1.1 Creating and Assuming an IAM Role for Developer Access\n",
    "- create a policy which allow user or principle to assume a role\n",
    "- create a role:\n",
    "    - role_name\n",
    "    - --assume-role-policy-document: who can assume this role\n",
    "- attach policy to role\n",
    "    - role_name\n",
    "    - policy"
   ]
  }
 ],
 "metadata": {
  "language_info": {
   "name": "python"
  }
 },
 "nbformat": 4,
 "nbformat_minor": 2
}
