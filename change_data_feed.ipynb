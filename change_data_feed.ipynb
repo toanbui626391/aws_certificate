{
 "cells": [
  {
   "cell_type": "markdown",
   "metadata": {},
   "source": [
    "### Change Data Feed demo\n",
    "- reference link: https://docs.gcp.databricks.com/en/_extras/notebooks/source/delta/cdf-demo.html"
   ]
  },
  {
   "cell_type": "code",
   "execution_count": null,
   "metadata": {},
   "outputs": [],
   "source": [
    "countries = [(\"USA\", 10000, 20000), (\"India\", 1000, 1500), (\"UK\", 7000, 10000), (\"Canada\", 500, 700) ]\n",
    "columns = [\"Country\",\"NumVaccinated\",\"AvailableDoses\"]\n",
    "spark.createDataFrame(data=countries, schema = columns).write.format(\"delta\").mode(\"overwrite\").saveAsTable(\"silverTable\")"
   ]
  },
  {
   "cell_type": "code",
   "execution_count": null,
   "metadata": {},
   "outputs": [],
   "source": [
    "import pyspark.sql.functions as F\n",
    "#create gold delta table\n",
    "spark.read.format(\"delta\").table(\"silverTable\").withColumn(\"VaccinationRate\", F.col(\"NumVaccinated\") / F.col(\"AvailableDoses\")) \\\n",
    "  .drop(\"NumVaccinated\").drop(\"AvailableDoses\") \\\n",
    "  .write.format(\"delta\").mode(\"overwrite\").saveAsTable(\"goldTable\")"
   ]
  },
  {
   "cell_type": "code",
   "execution_count": null,
   "metadata": {},
   "outputs": [],
   "source": [
    "#view data on gold table\n",
    "%sql\n",
    "SELECT * FROM goldTable"
   ]
  },
  {
   "cell_type": "code",
   "execution_count": null,
   "metadata": {},
   "outputs": [],
   "source": [
    "#update silverTable config to enable Change Data Feed\n",
    "%sql\n",
    "ALTER TABLE silverTable SET TBLPROPERTIES (delta.enableChangeDataFeed = true)"
   ]
  },
  {
   "cell_type": "code",
   "execution_count": null,
   "metadata": {},
   "outputs": [],
   "source": [
    "# Insert new record to silverTable\n",
    "new_countries = [(\"Australia\", 100, 3000)]\n",
    "spark.createDataFrame(data=new_countries, schema = columns).write.format(\"delta\").mode(\"append\").saveAsTable(\"silverTable\")"
   ]
  },
  {
   "cell_type": "code",
   "execution_count": null,
   "metadata": {},
   "outputs": [],
   "source": [
    "# delete a record on silver table\n",
    "%sql\n",
    "-- delete a record\n",
    "DELETE from silverTable WHERE Country = 'UK'"
   ]
  },
  {
   "cell_type": "code",
   "execution_count": null,
   "metadata": {},
   "outputs": [],
   "source": [
    "#totally, we have insert one and delete one\n",
    "%sql\n",
    "SELECT * FROM silverTable"
   ]
  },
  {
   "cell_type": "code",
   "execution_count": null,
   "metadata": {},
   "outputs": [],
   "source": [
    "#view the change using table_changes sql function\n",
    "%sql \n",
    "-- view the changes\n",
    "SELECT * FROM table_changes('silverTable', 2, 5) order by _commit_timestamp\n"
   ]
  },
  {
   "cell_type": "code",
   "execution_count": null,
   "metadata": {},
   "outputs": [],
   "source": [
    "#read change using pyspark api\n",
    "changes_df = spark.read.format(\"delta\").option(\"readChangeData\", True).option(\"startingVersion\", 2).table('silverTable')\n",
    "display(changes_df)"
   ]
  },
  {
   "cell_type": "code",
   "execution_count": null,
   "metadata": {},
   "outputs": [],
   "source": [
    "%sql\n",
    "-- Collect only the latest version for each country\n",
    "CREATE OR REPLACE TEMPORARY VIEW silverTable_latest_version as\n",
    "SELECT * \n",
    "    FROM \n",
    "         (SELECT *, rank() over (partition by Country order by _commit_version desc) as rank\n",
    "          FROM table_changes('silverTable', 2, 5)\n",
    "          WHERE _change_type !='update_preimage')\n",
    "    WHERE rank=1"
   ]
  },
  {
   "cell_type": "code",
   "execution_count": null,
   "metadata": {},
   "outputs": [],
   "source": [
    "\n",
    "%sql\n",
    "-- Merge the changes to gold\n",
    "MERGE INTO goldTable t USING silverTable_latest_version s ON s.Country = t.Country\n",
    "        WHEN MATCHED AND s._change_type='update_postimage' THEN UPDATE SET VaccinationRate = s.NumVaccinated/s.AvailableDoses\n",
    "        WHEN NOT MATCHED THEN INSERT (Country, VaccinationRate) VALUES (s.Country, s.NumVaccinated/s.AvailableDoses)"
   ]
  },
  {
   "cell_type": "code",
   "execution_count": null,
   "metadata": {},
   "outputs": [],
   "source": [
    "%sql\n",
    "SELECT * FROM goldTable"
   ]
  },
  {
   "cell_type": "code",
   "execution_count": null,
   "metadata": {},
   "outputs": [],
   "source": [
    "### Summary\n",
    "  # enable change data feed on delta live table allow to to keep change history of record on row level\n",
    "  # in this example, the key is country and we want to compute VaccinationRate for each country\n",
    "  # because silverTable have been enable Change Data Feed which allow use to find the most current (_change_type, _commit_version, _commit_timestamp)"
   ]
  }
 ],
 "metadata": {
  "kernelspec": {
   "display_name": "Python 3",
   "language": "python",
   "name": "python3"
  },
  "language_info": {
   "codemirror_mode": {
    "name": "ipython",
    "version": 3
   },
   "file_extension": ".py",
   "mimetype": "text/x-python",
   "name": "python",
   "nbconvert_exporter": "python",
   "pygments_lexer": "ipython3",
   "version": "3.9.18"
  }
 },
 "nbformat": 4,
 "nbformat_minor": 2
}
